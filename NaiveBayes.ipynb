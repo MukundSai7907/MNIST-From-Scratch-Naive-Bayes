{
 "cells": [
  {
   "cell_type": "code",
   "execution_count": null,
   "metadata": {
    "id": "xZACG6BsHIPt"
   },
   "outputs": [],
   "source": [
    "import numpy as np\n",
    "import tensorflow as tf\n",
    "import matplotlib.pyplot as plt \n",
    "from matplotlib import pyplot as plt\n",
    "import pandas as pd\n",
    "import math\n",
    "import sklearn.metrics as sk"
   ]
  },
  {
   "cell_type": "code",
   "execution_count": null,
   "metadata": {
    "colab": {
     "base_uri": "https://localhost:8080/",
     "height": 314
    },
    "id": "MMkjDsJhHIPr",
    "outputId": "171a5b44-da9c-409a-91bd-ad26ef801e52",
    "scrolled": false
   },
   "outputs": [],
   "source": [
    "(x_train, y_train), (x_test, y_test) = tf.keras.datasets.mnist.load_data()\n",
    "\n",
    "## function to plot images in grid\n",
    "def show_images(images, rows, cols):\n",
    "    for i in range(rows * cols):\n",
    "        plt.subplot(rows, cols, i + 1)\n",
    "        plt.imshow(images[i], cmap=plt.cm.gray_r)\n",
    "        plt.xticks(())\n",
    "        plt.yticks(())\n",
    "    plt.show()\n",
    "\n",
    "# convert to 0/1 (instead of 0-255)\n",
    "x_train_int = [np.round(1.0*i/256) for i in x_train] \n",
    "x_test_int = [np.round(1.0*i/256) for i in x_test]\n",
    "\n",
    "## Uncomment below to see a few images\n",
    "print('A few example images:')\n",
    "show_images(x_test_int, 3, 5)"
   ]
  },
  {
   "cell_type": "code",
   "execution_count": null,
   "metadata": {
    "id": "om4EIaqTJ90e"
   },
   "outputs": [],
   "source": [
    "class CLF:\n",
    "  def __init__(self):\n",
    "    (self.x_train, self.y_train), (self.x_test, self.y_test) = tf.keras.datasets.mnist.load_data()\n",
    "    self.x_train = [np.round(1.0*i/256) for i in self.x_train] \n",
    "    self.x_test = [np.round(1.0*i/256) for i in self.x_test]\n",
    "\n",
    "\n",
    "    self.PX0Y = np.zeros((10,28,28))\n",
    "    self.PX1Y = np.zeros((10,28,28))\n",
    "\n",
    "    self.sp = 0.7\n",
    "\n",
    "    self.len_dict = {0:0, 1:0, 2:0 , 3:0 , 4:0 , 5:0 , 6:0 , 7:0 , 8:0 , 9:0}\n",
    "\n",
    "    for i in self.y_train:\n",
    "      self.len_dict[i] += 1\n",
    "\n",
    "\n",
    "\n",
    "\n",
    "  def compile(self):\n",
    "\n",
    "    for digit in range(10):\n",
    "\n",
    "\n",
    "      temp_train = []\n",
    "      for i in range(len(self.y_train)):\n",
    "        if self.y_train[i] == digit:\n",
    "          temp_train.append(self.x_train[i])\n",
    "      \n",
    "\n",
    "      for i in range(28):\n",
    "        for j in range(28):\n",
    "          x0_count = 0\n",
    "          x1_count = 0\n",
    "          for k in range(len(temp_train)):\n",
    "            if temp_train[k][i][j] == 0:\n",
    "              x0_count += 1\n",
    "            else: x1_count += 1\n",
    "          self.PX0Y[digit][i][j] = math.log( (x0_count + 0.7) / \n",
    "                                            ( self.len_dict[digit] + (2*0.7) ) )\n",
    "          self.PX1Y[digit][i][j] = math.log( (x1_count + 0.7) / \n",
    "                                            ( self.len_dict[digit] + (2*0.7) ) )\n",
    "\n",
    "    \n",
    "\n",
    "  def predict(self, test_image):\n",
    "\n",
    "    test_image = np.round(1.0*test_image/256)\n",
    "\n",
    "    digit_sum = []\n",
    "\n",
    "    for digit in range(10):\n",
    "      temp_sum = 0\n",
    "\n",
    "      for i in range(28):\n",
    "        for j in range(28):\n",
    "          if test_image[i][j] == 0:\n",
    "            temp_sum += self.PX0Y[digit][i][j]\n",
    "          else: temp_sum += self.PX1Y[digit][i][j]\n",
    "      digit_sum.append(temp_sum)\n",
    "\n",
    "    \n",
    "    prediction = np.argmax(digit_sum)\n",
    "\n",
    "    return prediction\n"
   ]
  },
  {
   "cell_type": "code",
   "execution_count": null,
   "metadata": {
    "id": "LyhFOyuEbmRW"
   },
   "outputs": [],
   "source": [
    "clf = CLF()\n",
    "clf.compile()"
   ]
  },
  {
   "cell_type": "code",
   "execution_count": null,
   "metadata": {
    "colab": {
     "base_uri": "https://localhost:8080/"
    },
    "id": "Z1UQ3MmpYnNw",
    "outputId": "c58046b1-411a-40f1-930f-f5e2829500e0"
   },
   "outputs": [],
   "source": [
    "(x_tr, y_tr), (x_t, y_t) = tf.keras.datasets.mnist.load_data()\n",
    "y_pred = []\n",
    "# x_t1 = x_t[0:5000]\n",
    "# y_t1 = y_t[0:5000]\n",
    "for image in x_t:\n",
    "  y_pred.append(clf.predict(image))\n",
    "\n",
    "\n",
    "print(f'The Error is {1 - sk.accuracy_score(y_t, y_pred)}')\n",
    "print(f'The accuracy is {sk.accuracy_score(y_t, y_pred)}')"
   ]
  }
 ],
 "metadata": {
  "colab": {
   "collapsed_sections": [],
   "name": "Naive_Bayes.ipynb",
   "provenance": []
  },
  "kernelspec": {
   "display_name": "Python 3",
   "language": "python",
   "name": "python3"
  },
  "language_info": {
   "codemirror_mode": {
    "name": "ipython",
    "version": 3
   },
   "file_extension": ".py",
   "mimetype": "text/x-python",
   "name": "python",
   "nbconvert_exporter": "python",
   "pygments_lexer": "ipython3",
   "version": "3.8.8"
  }
 },
 "nbformat": 4,
 "nbformat_minor": 1
}
